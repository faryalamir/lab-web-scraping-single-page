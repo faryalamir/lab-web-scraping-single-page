{
 "cells": [
  {
   "cell_type": "code",
   "execution_count": 2,
   "id": "ce535fb6",
   "metadata": {},
   "outputs": [],
   "source": [
    "from bs4 import BeautifulSoup\n",
    "import requests\n",
    "import pandas as pd"
   ]
  },
  {
   "cell_type": "code",
   "execution_count": 1,
   "id": "c72f3bed",
   "metadata": {},
   "outputs": [],
   "source": [
    "bill_url = \"https://www.billboard.com/charts/hot-100/\""
   ]
  },
  {
   "cell_type": "code",
   "execution_count": 3,
   "id": "8fe523e8",
   "metadata": {},
   "outputs": [],
   "source": [
    "def scrape_hot100() -> pd.DataFrame:\n",
    "    url = \"https://www.billboard.com/charts/hot-100\"\n",
    "    response = requests.get(url)\n",
    "    soup = BeautifulSoup(response.text, 'html.parser')\n",
    "\n",
    "    artists = [artist.text.strip() for artist in soup.select('span.c-label.a-no-trucate')]\n",
    "    titles = [title.text.strip() for title in soup.select('h3.a-no-trucate.c-title')]\n",
    "\n",
    "    data = {\n",
    "        'Artist': artists,\n",
    "        'Title': titles\n",
    "    }\n",
    "\n",
    "    df = pd.DataFrame(data)\n",
    "\n",
    "    return df "
   ]
  },
  {
   "cell_type": "code",
   "execution_count": 4,
   "id": "dff15c29",
   "metadata": {},
   "outputs": [],
   "source": [
    "hot100 = scrape_hot100()"
   ]
  },
  {
   "cell_type": "code",
   "execution_count": 5,
   "id": "c7e07dfe",
   "metadata": {},
   "outputs": [],
   "source": [
    "hot100.to_csv('hot100.csv', index=False)"
   ]
  },
  {
   "cell_type": "code",
   "execution_count": 6,
   "id": "4a08b037",
   "metadata": {},
   "outputs": [
    {
     "data": {
      "text/html": [
       "<div>\n",
       "<style scoped>\n",
       "    .dataframe tbody tr th:only-of-type {\n",
       "        vertical-align: middle;\n",
       "    }\n",
       "\n",
       "    .dataframe tbody tr th {\n",
       "        vertical-align: top;\n",
       "    }\n",
       "\n",
       "    .dataframe thead th {\n",
       "        text-align: right;\n",
       "    }\n",
       "</style>\n",
       "<table border=\"1\" class=\"dataframe\">\n",
       "  <thead>\n",
       "    <tr style=\"text-align: right;\">\n",
       "      <th></th>\n",
       "      <th>Artist</th>\n",
       "      <th>Title</th>\n",
       "    </tr>\n",
       "  </thead>\n",
       "  <tbody>\n",
       "    <tr>\n",
       "      <th>0</th>\n",
       "      <td>Doja Cat</td>\n",
       "      <td>Paint The Town Red</td>\n",
       "    </tr>\n",
       "    <tr>\n",
       "      <th>1</th>\n",
       "      <td>SZA</td>\n",
       "      <td>Snooze</td>\n",
       "    </tr>\n",
       "    <tr>\n",
       "      <th>2</th>\n",
       "      <td>Taylor Swift</td>\n",
       "      <td>Cruel Summer</td>\n",
       "    </tr>\n",
       "    <tr>\n",
       "      <th>3</th>\n",
       "      <td>Luke Combs</td>\n",
       "      <td>Fast Car</td>\n",
       "    </tr>\n",
       "    <tr>\n",
       "      <th>4</th>\n",
       "      <td>Jung Kook &amp; Jack Harlow</td>\n",
       "      <td>3D</td>\n",
       "    </tr>\n",
       "    <tr>\n",
       "      <th>...</th>\n",
       "      <td>...</td>\n",
       "      <td>...</td>\n",
       "    </tr>\n",
       "    <tr>\n",
       "      <th>95</th>\n",
       "      <td>Rod Wave</td>\n",
       "      <td>Long Journey</td>\n",
       "    </tr>\n",
       "    <tr>\n",
       "      <th>96</th>\n",
       "      <td>Luke Bryan</td>\n",
       "      <td>But I Got A Beer In My Hand</td>\n",
       "    </tr>\n",
       "    <tr>\n",
       "      <th>97</th>\n",
       "      <td>Peso Pluma</td>\n",
       "      <td>Rubicon</td>\n",
       "    </tr>\n",
       "    <tr>\n",
       "      <th>98</th>\n",
       "      <td>Zach Bryan</td>\n",
       "      <td>East Side Of Sorrow</td>\n",
       "    </tr>\n",
       "    <tr>\n",
       "      <th>99</th>\n",
       "      <td>Bad Bunny</td>\n",
       "      <td>Where She Goes</td>\n",
       "    </tr>\n",
       "  </tbody>\n",
       "</table>\n",
       "<p>100 rows × 2 columns</p>\n",
       "</div>"
      ],
      "text/plain": [
       "                     Artist                        Title\n",
       "0                  Doja Cat           Paint The Town Red\n",
       "1                       SZA                       Snooze\n",
       "2              Taylor Swift                 Cruel Summer\n",
       "3                Luke Combs                     Fast Car\n",
       "4   Jung Kook & Jack Harlow                           3D\n",
       "..                      ...                          ...\n",
       "95                 Rod Wave                 Long Journey\n",
       "96               Luke Bryan  But I Got A Beer In My Hand\n",
       "97               Peso Pluma                      Rubicon\n",
       "98               Zach Bryan          East Side Of Sorrow\n",
       "99                Bad Bunny               Where She Goes\n",
       "\n",
       "[100 rows x 2 columns]"
      ]
     },
     "execution_count": 6,
     "metadata": {},
     "output_type": "execute_result"
    }
   ],
   "source": [
    "hot100"
   ]
  }
 ],
 "metadata": {
  "kernelspec": {
   "display_name": "Python 3 (ipykernel)",
   "language": "python",
   "name": "python3"
  },
  "language_info": {
   "codemirror_mode": {
    "name": "ipython",
    "version": 3
   },
   "file_extension": ".py",
   "mimetype": "text/x-python",
   "name": "python",
   "nbconvert_exporter": "python",
   "pygments_lexer": "ipython3",
   "version": "3.11.4"
  }
 },
 "nbformat": 4,
 "nbformat_minor": 5
}
